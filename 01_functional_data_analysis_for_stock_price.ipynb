{
  "nbformat": 4,
  "nbformat_minor": 0,
  "metadata": {
    "colab": {
      "name": "01_functional_data_analysis_for_stock_price.ipynb",
      "provenance": [],
      "authorship_tag": "ABX9TyOp375NcAKV/dhfAJxXkFUt"
    },
    "kernelspec": {
      "name": "python3",
      "display_name": "Python 3"
    }
  },
  "cells": [
    {
      "cell_type": "markdown",
      "metadata": {
        "id": "L3n3oC2poOPQ"
      },
      "source": [
        "## 1. Functional Data Anlaysis를 활용한 금융 시장에 존재하는 패턴 분류\n"
      ]
    },
    {
      "cell_type": "markdown",
      "metadata": {
        "id": "5e68kX5Qo0KF"
      },
      "source": [
        "### 1.1 FDA 는 무엇인가?"
      ]
    },
    {
      "cell_type": "markdown",
      "metadata": {
        "id": "YJRQG--gp5hJ"
      },
      "source": [
        "### 1.2 금융시장에 존재하는 패턴 분류"
      ]
    },
    {
      "cell_type": "markdown",
      "metadata": {
        "id": "90ippaZQqAiY"
      },
      "source": [
        "## 2. Frog in the pan 참고자료를 통해 각 패턴의 향후 수익 지속성 및 한달 후 수익 결과 확인"
      ]
    },
    {
      "cell_type": "markdown",
      "metadata": {
        "id": "wdDGwU6hqJvH"
      },
      "source": [
        "### 2.1 frog in the pan 첨부해 간략히 어떤 내용인지 설명"
      ]
    },
    {
      "cell_type": "markdown",
      "metadata": {
        "id": "r-yDgKJzqRZM"
      },
      "source": [
        "### 2.2 위에서 클러스터링 한 패턴들의 향후 1달 수익률 및 수익을 지속하는 평균 개월수 구한다."
      ]
    }
  ]
}