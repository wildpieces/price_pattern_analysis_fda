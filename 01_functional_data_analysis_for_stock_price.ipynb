{
  "nbformat": 4,
  "nbformat_minor": 0,
  "metadata": {
    "colab": {
      "name": "01_functional_data_analysis_for_stock_price.ipynb",
      "provenance": [],
      "collapsed_sections": [],
      "toc_visible": true,
      "authorship_tag": "ABX9TyNZoetruIBtYWrKF/3hdtVE"
    },
    "kernelspec": {
      "name": "python3",
      "display_name": "Python 3"
    }
  },
  "cells": [
    {
      "cell_type": "markdown",
      "metadata": {
        "id": "ffeRthXXBnAZ"
      },
      "source": [
        "## 0. API 이용해 시계열 데이터 불러오기\n",
        "\n",
        "DataReader() 함수를 사용해 yahoo finance 에서 금융 시계열 데이터를 불러온다. <br>\n",
        "금융 시장에 존재하는 모든 가격패턴을 얻기 위해 다양한 자산의 ETF가격 데이터를 활용한다. <br>"
      ]
    },
    {
      "cell_type": "code",
      "metadata": {
        "id": "CW9P1U0PBuIn",
        "colab": {
          "base_uri": "https://localhost:8080/"
        },
        "outputId": "65a560eb-58be-4eba-ebd8-f16e1ad6ac68"
      },
      "source": [
        "import pandas_datareader as web\n",
        "import pandas as pd\n",
        "import matplotlib.pyplot as plt\n",
        "from datetime import date\n",
        "\n",
        "tickers = [\"DBC\", \"DBA\", \"LQD\", \"TLT\", \"TIP\", \"XLB\", \"XLE\", \"SHY\", \"XLF\", \"XLI\", \"XLK\", \"XLP\", \"XLU\", \"XLV\", \"XLY\"]\n",
        "price_all = {}\n",
        "start_date = \"1950-01-02\"\n",
        "end_date = date.today()\n",
        "for t in tickers:\n",
        "  price_table = web.DataReader(t, \"yahoo\", start_date, end_date)\n",
        "  price_all[t] = price_table[\"Close\"]\n",
        "\n",
        "# price_all[\"DBA\"].plot()\n",
        "# price_all\n",
        "price_all[\"DBC\"]"
      ],
      "execution_count": 8,
      "outputs": [
        {
          "output_type": "execute_result",
          "data": {
            "text/plain": [
              "Date\n",
              "2006-02-06    24.200001\n",
              "2006-02-07    23.500000\n",
              "2006-02-08    23.400000\n",
              "2006-02-09    23.620001\n",
              "2006-02-10    23.190001\n",
              "                ...    \n",
              "2021-02-25    17.090000\n",
              "2021-02-26    16.730000\n",
              "2021-03-01    16.590000\n",
              "2021-03-02    16.660000\n",
              "2021-03-03    16.760000\n",
              "Name: Close, Length: 3794, dtype: float64"
            ]
          },
          "metadata": {
            "tags": []
          },
          "execution_count": 8
        }
      ]
    },
    {
      "cell_type": "markdown",
      "metadata": {
        "id": "L3n3oC2poOPQ"
      },
      "source": [
        "## 1. Functional Data Anlaysis로 금융 시장에 존재하는 가격패턴 분류\n"
      ]
    },
    {
      "cell_type": "markdown",
      "metadata": {
        "id": "5e68kX5Qo0KF"
      },
      "source": [
        "### 1.1 FDA 는 무엇인가?"
      ]
    },
    {
      "cell_type": "markdown",
      "metadata": {
        "id": "YJRQG--gp5hJ"
      },
      "source": [
        "### 1.2 금융시장에 존재하는 패턴 분류\n",
        "\n",
        "#### 1.2.1 가격 패턴 데이터 만들기 preprocessing\n",
        "\n",
        "다양한 금융시장 환경에서 존재하는 가격 패턴의 전체 집합을 만들기 위해 주식, 채권, 원자재 등 다양한 자산에 대해 12개월의 가격 데이터를 여러 구간별로 나누어서 만든다. <br>\n",
        "\n",
        "1. 자산별 비어있는 날짜의 데이터는 이전의 값으로 채운다. \n",
        "2. 자산별 변동성이 다르기 때문에 패턴 분류시 영향을 줄 수 있다. <br>\n",
        "   가격 패턴을 분류하는 목적이기 때문에 가격의 상승 하락 폭을 동일하게 하기 위해 각 자산의 연 변동성으로 스케일링한다. (변동성 스케일링 전, 후 이미지 넣기)\n",
        "\n"
      ]
    },
    {
      "cell_type": "code",
      "metadata": {
        "colab": {
          "base_uri": "https://localhost:8080/"
        },
        "id": "kYAja3LMxQ4M",
        "outputId": "a01c02bf-af20-4f95-cd71-92f08b97fb96"
      },
      "source": [
        "price_all.keys()"
      ],
      "execution_count": 6,
      "outputs": [
        {
          "output_type": "execute_result",
          "data": {
            "text/plain": [
              "dict_keys(['DBC', 'DBA', 'LQD', 'TLT', 'TIP', 'XLB', 'XLE', 'SHY', 'XLF', 'XLI', 'XLK', 'XLP', 'XLU', 'XLV', 'XLY'])"
            ]
          },
          "metadata": {
            "tags": []
          },
          "execution_count": 6
        }
      ]
    },
    {
      "cell_type": "markdown",
      "metadata": {
        "id": "90ippaZQqAiY"
      },
      "source": [
        "## 2. Frog in the pan 참고자료를 통해 각 패턴의 향후 수익 지속성 및 한달 후 수익 결과 확인"
      ]
    },
    {
      "cell_type": "markdown",
      "metadata": {
        "id": "wdDGwU6hqJvH"
      },
      "source": [
        "### 2.1 frog in the pan 첨부해 간략히 어떤 내용인지 설명"
      ]
    },
    {
      "cell_type": "markdown",
      "metadata": {
        "id": "r-yDgKJzqRZM"
      },
      "source": [
        "### 2.2 위에서 클러스터링 한 패턴들의 향후 1달 수익률 및 수익을 지속하는 평균 개월수 구한다."
      ]
    }
  ]
}